{
 "cells": [
  {
   "cell_type": "markdown",
   "id": "5e2668d8-fbc3-41bd-88d2-d3b8399d4cd2",
   "metadata": {},
   "source": [
    "# Set Up"
   ]
  },
  {
   "cell_type": "code",
   "execution_count": 1,
   "id": "dc6bb0dc-f996-4851-a30a-d0c8a250e4e5",
   "metadata": {},
   "outputs": [],
   "source": [
    "import xarray as xr\n",
    "import numpy as np\n",
    "import torch\n",
    "import random\n",
    "from sklearn.feature_extraction import image\n",
    "from sklearn.utils import check_random_state\n",
    "import gcsfs\n",
    "from google.oauth2.credentials import Credentials\n",
    "from scipy import linalg\n",
    "import xarray as xr\n",
    "import gcsfs\n",
    "import matplotlib.pyplot as plt"
   ]
  },
  {
   "cell_type": "code",
   "execution_count": 2,
   "id": "38890c3e-f79e-40c0-9e78-d2df9e94b131",
   "metadata": {},
   "outputs": [],
   "source": [
    "seed = 42\n",
    "torch.manual_seed(seed)\n",
    "np.random.seed(seed)\n",
    "random.seed(seed)\n",
    "if torch.cuda.is_available():\n",
    "    torch.cuda.manual_seed(seed)\n",
    "    torch.cuda.manual_seed_all(seed)"
   ]
  },
  {
   "cell_type": "code",
   "execution_count": 3,
   "id": "7e2ce51c-e2ff-45a3-a54e-79b244d91401",
   "metadata": {},
   "outputs": [],
   "source": [
    "PERSISTENT_BUCKET = 'gs://leap-persistent/dhruvbalwada'\n",
    "unfiltered_link = PERSISTENT_BUCKET + '/ssh_reconstruction_project/unfiltered_data.zarr'\n",
    "filtered_link = PERSISTENT_BUCKET+'/ssh_reconstruction_project/filtered_data.zarr'\n",
    "da_unfiltered = xr.open_zarr(unfiltered_link)\n",
    "da_filtered = xr.open_zarr(filtered_link)\n",
    "ssh_it = da_unfiltered['ssh_unfiltered'] - da_filtered['ssh_filtered']\n",
    "u_it = da_unfiltered['u_unfiltered'] - da_filtered['u_filtered']\n",
    "v_it = da_unfiltered['v_unfiltered'] - da_filtered['v_filtered']\n",
    "da_it = xr.Dataset({'ssh_it': ssh_it,'u_it': u_it,'v_it': v_it})"
   ]
  },
  {
   "cell_type": "markdown",
   "id": "011e888f-b58b-412b-b11f-494ca6b4bb30",
   "metadata": {},
   "source": [
    "# Data Augmentation"
   ]
  },
  {
   "cell_type": "code",
   "execution_count": 4,
   "id": "6cdb77c0-d094-4c11-90b1-38561970f534",
   "metadata": {},
   "outputs": [],
   "source": [
    "def augment_and_extract_patches(data, start_time, end_time, patch_size=108, is_ssh=False):\n",
    "    original_data = data.isel(time=slice(start_time, end_time))\n",
    "    \n",
    "    def rotate_data(data, k):\n",
    "        return xr.apply_ufunc(\n",
    "            lambda x: np.rot90(x, k),\n",
    "            data,\n",
    "            input_core_dims=[['i', 'j']],\n",
    "            output_core_dims=[['i', 'j']],\n",
    "            vectorize=True,\n",
    "            dask='allowed'\n",
    "        )\n",
    "    \n",
    "    augmented_data = []\n",
    "    for t in range(original_data.sizes['time']):\n",
    "        time_slice = original_data.isel(time=t)\n",
    "        augmented_data.extend([\n",
    "            time_slice,\n",
    "            rotate_data(time_slice, k=1),\n",
    "            rotate_data(time_slice, k=2),\n",
    "            rotate_data(time_slice, k=3)\n",
    "        ])\n",
    "    \n",
    "    augmented_data = xr.concat(augmented_data, dim='time')\n",
    "    \n",
    "    all_patches = []\n",
    "    for time_step in range(augmented_data.sizes['time']):\n",
    "        arr_2d = augmented_data.isel(time=time_step)\n",
    "        \n",
    "        # Fill NaN with 0 only for SSH data\n",
    "        if is_ssh:\n",
    "            arr_2d = arr_2d.fillna(0)\n",
    "        \n",
    "        arr_2d = arr_2d.values\n",
    "        patches = []\n",
    "        for i in range(1080, 3240, patch_size):\n",
    "            for j in range(0, 2160, patch_size):\n",
    "                patch = arr_2d[i-1080:i-1080+patch_size, j:j+patch_size]\n",
    "                patches.append(patch)\n",
    "        all_patches.extend(patches)\n",
    "    \n",
    "    all_patches = np.array(all_patches)\n",
    "    \n",
    "    return xr.DataArray(all_patches, dims=['sample', 'i', 'j'])"
   ]
  },
  {
   "cell_type": "code",
   "execution_count": 5,
   "id": "33a32635-e9ef-4d56-a03c-a20e1f33359a",
   "metadata": {},
   "outputs": [],
   "source": [
    "SSH_train_patches = augment_and_extract_patches(da_unfiltered.ssh_unfiltered, 0, 60, is_ssh=True)\n",
    "BM_train_patches = augment_and_extract_patches(da_filtered.ssh_filtered, 0, 60, is_ssh=False)\n",
    "UBM_train_patches = augment_and_extract_patches(da_it.ssh_it, 0, 60, is_ssh=False)"
   ]
  },
  {
   "cell_type": "code",
   "execution_count": 8,
   "id": "f967cc10-4ef6-4b38-908b-66904b4914da",
   "metadata": {},
   "outputs": [
    {
     "data": {
      "text/plain": [
       "<xarray.backends.zarr.ZarrStore at 0x7d44bc179d40>"
      ]
     },
     "execution_count": 8,
     "metadata": {},
     "output_type": "execute_result"
    }
   ],
   "source": [
    "with open(\"/home/jovyan/SSH/token.txt\") as f:\n",
    "    access_token = f.read().strip()\n",
    "\n",
    "credentials = Credentials(access_token)\n",
    "fs = gcsfs.GCSFileSystem(token=credentials)\n",
    "\n",
    "mapper_ssh = fs.get_mapper(\"gs://leap-persistent/YueWang/SSH/data/Spencer/ssh_train_aug.zarr\")\n",
    "mapper_ubm = fs.get_mapper(\"gs://leap-persistent/YueWang/SSH/data/Spencer/ubm_train_aug.zarr\")\n",
    "\n",
    "SSH_train_patches.to_zarr(mapper_ssh, mode='w')\n",
    "UBM_train_patches.to_zarr(mapper_ubm, mode='w')"
   ]
  },
  {
   "cell_type": "code",
   "execution_count": 33,
   "id": "df53b080-224d-49f0-bbc9-bd79a0e84869",
   "metadata": {},
   "outputs": [
    {
     "data": {
      "text/plain": [
       "<xarray.backends.zarr.ZarrStore at 0x7d0fb7e5f1c0>"
      ]
     },
     "execution_count": 33,
     "metadata": {},
     "output_type": "execute_result"
    }
   ],
   "source": [
    "# ssh_augmented_with_bm = xr.concat([SSH_train_patches, BM_train_patches.isel(sample=slice(0,5000))], dim='sample')\n",
    "# zeros_for_bm = xr.zeros_like(BM_train_patches.isel(sample=slice(0,5000)))\n",
    "# ubm_augmented_with_zeros = xr.concat([UBM_train_patches, zeros_for_bm], dim='sample')\n",
    "\n",
    "# ssh_final_augmented = xr.concat([ssh_augmented_with_bm, UBM_train_patches.isel(sample=slice(0,5000))], dim='sample')\n",
    "# ubm_final_augmented = xr.concat([ubm_augmented_with_zeros, UBM_train_patches.isel(sample=slice(0,5000))], dim='sample')\n",
    "\n",
    "# with open(\"/home/jovyan/SSH/token.txt\") as f:\n",
    "#     access_token = f.read().strip()\n",
    "\n",
    "# credentials = Credentials(access_token)\n",
    "# fs = gcsfs.GCSFileSystem(token=credentials)\n",
    "\n",
    "# mapper_ssh = fs.get_mapper(\"gs://leap-persistent/YueWang/SSH/data/Spencer/ssh_train_aug.zarr\")\n",
    "# mapper_ubm = fs.get_mapper(\"gs://leap-persistent/YueWang/SSH/data/Spencer/ubm_train_aug.zarr\")\n",
    "\n",
    "# ssh_final_augmented.to_zarr(mapper_ssh, mode='w')\n",
    "# ubm_final_augmented.to_zarr(mapper_ubm, mode='w')"
   ]
  },
  {
   "cell_type": "markdown",
   "id": "98ce3b81-c08a-487f-90a6-12627bdd78db",
   "metadata": {},
   "source": [
    "# Data with NO Augmentation"
   ]
  },
  {
   "cell_type": "code",
   "execution_count": 4,
   "id": "c4011e8d-3cc8-43a2-b3b3-31eb49e431d0",
   "metadata": {},
   "outputs": [],
   "source": [
    "def extract_patches(data, start_time, end_time, patch_size=108, is_ssh=False):\n",
    "\n",
    "    original_data = data.isel(time=slice(start_time, end_time))\n",
    "    \n",
    "    all_patches = []\n",
    "    for time_step in range(original_data.sizes['time']):\n",
    "        arr_2d = original_data.isel(time=time_step)\n",
    "        \n",
    "        # Handle NaN values based on whether it's SSH data or not\n",
    "        if is_ssh:\n",
    "            arr_2d = arr_2d.fillna(0)\n",
    "        \n",
    "        arr_2d = arr_2d.values\n",
    "        \n",
    "        patches = []\n",
    "        for i in range(1080, 3240, patch_size):\n",
    "            for j in range(0, 2160, patch_size):\n",
    "                patch = arr_2d[i-1080:i-1080+patch_size, j:j+patch_size]\n",
    "                patches.append(patch)\n",
    "        all_patches.extend(patches)\n",
    "    \n",
    "    all_patches = np.array(all_patches)\n",
    "    \n",
    "    return xr.DataArray(all_patches, dims=['sample', 'i', 'j'])"
   ]
  },
  {
   "cell_type": "code",
   "execution_count": 11,
   "id": "40ce9096-40d5-4de6-a2a0-0b9e9d3e0234",
   "metadata": {},
   "outputs": [
    {
     "data": {
      "text/plain": [
       "<xarray.backends.zarr.ZarrStore at 0x791337489ac0>"
      ]
     },
     "execution_count": 11,
     "metadata": {},
     "output_type": "execute_result"
    }
   ],
   "source": [
    "SSH_Train_patches = extract_patches(da_unfiltered.ssh_unfiltered, 0, 60, is_ssh=True)\n",
    "SSH_val_patches = extract_patches(da_unfiltered.ssh_unfiltered, 60, 65, is_ssh=True)\n",
    "SSH_test_patches = extract_patches(da_unfiltered.ssh_unfiltered, 65, 70, is_ssh=True)\n",
    "\n",
    "BM_Train_patches = extract_patches(da_filtered.ssh_filtered, 0, 60, is_ssh=False)\n",
    "BM_val_patches = extract_patches(da_filtered.ssh_filtered, 60, 65, is_ssh=False)\n",
    "BM_test_patches = extract_patches(da_filtered.ssh_filtered, 65, 70, is_ssh=False)\n",
    "\n",
    "UBM_Train_patches = extract_patches(da_it.ssh_it, 0, 60, is_ssh=False)\n",
    "UBM_val_patches = extract_patches(da_it.ssh_it, 60, 65, is_ssh=False)\n",
    "UBM_test_patches = extract_patches(da_it.ssh_it, 65, 70, is_ssh=False)\n",
    "\n",
    "with open(\"/home/jovyan/SSH/token.txt\") as f:\n",
    "    access_token = f.read().strip()\n",
    "\n",
    "credentials = Credentials(access_token)\n",
    "fs = gcsfs.GCSFileSystem(token=credentials)\n",
    "\n",
    "mapper_ssh_train = fs.get_mapper(\"gs://leap-persistent/YueWang/SSH/data/Spencer/ssh_train.zarr\")\n",
    "mapper_ssh_val = fs.get_mapper(\"gs://leap-persistent/YueWang/SSH/data/Spencer/ssh_val.zarr\")\n",
    "mapper_ssh_test = fs.get_mapper(\"gs://leap-persistent/YueWang/SSH/data/Spencer/ssh_test.zarr\")\n",
    "\n",
    "mapper_bm_train = fs.get_mapper(\"gs://leap-persistent/YueWang/SSH/data/Spencer/bm_train.zarr\")\n",
    "mapper_bm_val = fs.get_mapper(\"gs://leap-persistent/YueWang/SSH/data/Spencer/bm_val.zarr\")\n",
    "mapper_bm_test = fs.get_mapper(\"gs://leap-persistent/YueWang/SSH/data/Spencer/bm_test.zarr\")\n",
    "\n",
    "mapper_ubm_train = fs.get_mapper(\"gs://leap-persistent/YueWang/SSH/data/Spencer/ubm_train.zarr\")\n",
    "mapper_ubm_val = fs.get_mapper(\"gs://leap-persistent/YueWang/SSH/data/Spencer/ubm_val.zarr\")\n",
    "mapper_ubm_test = fs.get_mapper(\"gs://leap-persistent/YueWang/SSH/data/Spencer/ubm_test.zarr\")\n",
    "\n",
    "\n",
    "SSH_Train_patches.to_zarr(mapper_ssh_train, mode='w')\n",
    "SSH_val_patches.to_zarr(mapper_ssh_val, mode='w')\n",
    "SSH_test_patches.to_zarr(mapper_ssh_test, mode='w')\n",
    "\n",
    "BM_Train_patches.to_zarr(mapper_bm_train, mode='w')\n",
    "BM_val_patches.to_zarr(mapper_bm_val, mode='w')\n",
    "BM_test_patches.to_zarr(mapper_bm_test, mode='w')\n",
    "\n",
    "UBM_Train_patches.to_zarr(mapper_ubm_train, mode='w')\n",
    "UBM_val_patches.to_zarr(mapper_ubm_val, mode='w')\n",
    "UBM_test_patches.to_zarr(mapper_ubm_test, mode='w')"
   ]
  },
  {
   "cell_type": "markdown",
   "id": "07ad5b6f-33df-45a5-8b26-7d59394cc9ee",
   "metadata": {},
   "source": [
    "# Load Data from Cloud"
   ]
  },
  {
   "cell_type": "code",
   "execution_count": 9,
   "id": "1890666d-82fc-407a-a237-d9c6b3b1d107",
   "metadata": {},
   "outputs": [],
   "source": [
    "base_path = \"gs://leap-persistent/YueWang/SSH/data/Spencer\"\n",
    "\n",
    "def open_zarr(path):\n",
    "    return xr.open_zarr(path, consolidated=True)\n",
    "\n",
    "ssh_aug = open_zarr(f\"{base_path}/ssh_train_aug.zarr\").__xarray_dataarray_variable__\n",
    "ubm_aug = open_zarr(f\"{base_path}/ubm_train_aug.zarr\").__xarray_dataarray_variable__\n",
    "\n",
    "SSH_Train_patches = open_zarr(f\"{base_path}/ssh_train.zarr\").__xarray_dataarray_variable__\n",
    "SSH_val_patches = open_zarr(f\"{base_path}/ssh_val.zarr\").__xarray_dataarray_variable__\n",
    "SSH_test_patches = open_zarr(f\"{base_path}/ssh_test.zarr\").__xarray_dataarray_variable__\n",
    "\n",
    "BM_Train_patches = open_zarr(f\"{base_path}/bm_train.zarr\").__xarray_dataarray_variable__\n",
    "BM_val_patches = open_zarr(f\"{base_path}/bm_val.zarr\").__xarray_dataarray_variable__\n",
    "BM_test_patches = open_zarr(f\"{base_path}/bm_test.zarr\").__xarray_dataarray_variable__\n",
    "\n",
    "UBM_Train_patches = open_zarr(f\"{base_path}/ubm_train.zarr\").__xarray_dataarray_variable__\n",
    "UBM_val_patches = open_zarr(f\"{base_path}/ubm_val.zarr\").__xarray_dataarray_variable__\n",
    "UBM_test_patches = open_zarr(f\"{base_path}/ubm_test.zarr\").__xarray_dataarray_variable__"
   ]
  },
  {
   "cell_type": "markdown",
   "id": "38aca856-6058-46cd-a709-9945e06c7cd5",
   "metadata": {},
   "source": [
    "# ZCA"
   ]
  },
  {
   "cell_type": "code",
   "execution_count": 12,
   "id": "b0da7393-72d3-4395-87c8-b4e01314ae2e",
   "metadata": {},
   "outputs": [],
   "source": [
    "def calculate_zca_params(data, epsilon=1e-5):\n",
    "\n",
    "    # Reshape the data to 2D\n",
    "    data_flat = data.reshape((data.shape[0], -1))\n",
    "    \n",
    "    # Handle NaN values\n",
    "    mask = ~np.isnan(data_flat)\n",
    "    mean = np.nanmean(data_flat, axis=0)\n",
    "    \n",
    "    # Center the data, ignoring NaN values\n",
    "    data_centered = data_flat - mean\n",
    "    data_centered[~mask] = 0  # Set NaN values to 0 after centering\n",
    "    \n",
    "    # Compute covariance matrix\n",
    "    cov_matrix = np.dot(data_centered.T, data_centered) / np.sum(mask, axis=0).clip(min=1)\n",
    "    \n",
    "    # Compute SVD\n",
    "    U, S, _ = linalg.svd(cov_matrix)\n",
    "    \n",
    "    # Compute whitening matrix\n",
    "    zca_matrix = np.dot(U, np.dot(np.diag(1.0 / np.sqrt(S + epsilon)), U.T))\n",
    "    \n",
    "    return zca_matrix, mean\n",
    "\n",
    "def apply_zca_whitening(data, zca_matrix, mean):\n",
    "\n",
    "    original_shape = data.shape\n",
    "    data_flat = data.reshape((data.shape[0], -1))\n",
    "    \n",
    "    # Create a mask for non-NaN values\n",
    "    mask = ~np.isnan(data_flat)\n",
    "    \n",
    "    # Center the data using the provided mean\n",
    "    data_centered = data_flat - mean\n",
    "    data_centered[~mask] = 0  # Set NaN values to 0 after centering\n",
    "    \n",
    "    # Apply the whitening transformation\n",
    "    data_whitened = np.dot(data_centered, zca_matrix)\n",
    "    \n",
    "    # Restore NaN values where they were originally\n",
    "    data_whitened[~mask] = np.nan\n",
    "    \n",
    "    # Reshape back to original shape\n",
    "    return data_whitened.reshape(original_shape)"
   ]
  },
  {
   "cell_type": "code",
   "execution_count": 13,
   "id": "92eb3751-b12e-47a4-8e68-9d5611d32477",
   "metadata": {},
   "outputs": [],
   "source": [
    "zca_matrix_ubm_aug, zca_mean_ubm_aug = calculate_zca_params(ubm_aug.values)\n",
    "zca_matrix_ubm_aug_da = xr.DataArray(zca_matrix_ubm_aug, dims=('i', 'j'), coords={'i': range(11664), 'j': range(11664)})\n",
    "zca_mean_ubm_aug_da = xr.DataArray(zca_mean_ubm_aug, dims=('i',), coords={'i': range(11664)})\n",
    "\n",
    "UBM_train_zca_aug = apply_zca_whitening(ubm_aug.values, zca_matrix_ubm_aug, zca_mean_ubm_aug)\n",
    "UBM_val_zca_aug = apply_zca_whitening(UBM_val_patches.values, zca_matrix_ubm_aug, zca_mean_ubm_aug)\n",
    "UBM_test_zca_aug = apply_zca_whitening(UBM_test_patches.values, zca_matrix_ubm_aug, zca_mean_ubm_aug)\n",
    "\n",
    "UBM_train_zca_aug = xr.DataArray(UBM_train_zca_aug, dims=ubm_aug.dims, coords=ubm_aug.coords)\n",
    "UBM_val_zca_aug = xr.DataArray(UBM_val_zca_aug, dims=UBM_val_patches.dims, coords=UBM_val_patches.coords)\n",
    "UBM_test_zca_aug = xr.DataArray(UBM_test_zca_aug, dims=UBM_test_patches.dims, coords=UBM_test_patches.coords)"
   ]
  },
  {
   "cell_type": "code",
   "execution_count": 17,
   "id": "3556911f-97b4-400e-b3ce-4489d264fe44",
   "metadata": {},
   "outputs": [
    {
     "data": {
      "text/plain": [
       "<xarray.backends.zarr.ZarrStore at 0x7d445601a1c0>"
      ]
     },
     "execution_count": 17,
     "metadata": {},
     "output_type": "execute_result"
    }
   ],
   "source": [
    "import gcsfs\n",
    "from google.oauth2.credentials import Credentials\n",
    "\n",
    "with open(\"/home/jovyan/SSH/token.txt\") as f:\n",
    "    access_token = f.read().strip()\n",
    "\n",
    "credentials = Credentials(access_token)\n",
    "fs = gcsfs.GCSFileSystem(token=credentials)\n",
    "\n",
    "mapper_zca_aug_matrix_ubm = fs.get_mapper(\"gs://leap-persistent/YueWang/SSH/data/Spencer/zca_aug_matrix_ubm_eps5.zarr\")\n",
    "mapper_zca_aug_mean_ubm = fs.get_mapper(\"gs://leap-persistent/YueWang/SSH/data/Spencer/zca_aug_mean_ubm_eps5.zarr\")\n",
    "\n",
    "zca_matrix_ubm_aug_da.to_zarr(mapper_zca_aug_matrix_ubm, mode='w')\n",
    "zca_mean_ubm_aug_da.to_zarr(mapper_zca_aug_mean_ubm, mode='w')\n",
    "\n",
    "mapper_UBM_Train_zca_aug = fs.get_mapper(\"gs://leap-persistent/YueWang/SSH/data/Spencer/UBM_Train_zca_aug_eps5.zarr\")\n",
    "mapper_UBM_Val_zca_aug = fs.get_mapper(\"gs://leap-persistent/YueWang/SSH/data/Spencer/UBM_Val_zca_aug_eps5.zarr\")\n",
    "mapper_UBM_Test_zca_aug = fs.get_mapper(\"gs://leap-persistent/YueWang/SSH/data/Spencer/UBM_Test_zca_aug_eps5.zarr\")\n",
    "\n",
    "UBM_train_zca_aug.to_zarr(mapper_UBM_Train_zca_aug, mode='w')\n",
    "UBM_val_zca_aug.to_zarr(mapper_UBM_Val_zca_aug, mode='w')\n",
    "UBM_test_zca_aug.to_zarr(mapper_UBM_Test_zca_aug, mode='w')"
   ]
  },
  {
   "cell_type": "code",
   "execution_count": null,
   "id": "53d86d96-3924-4a14-909e-6e2a923e1776",
   "metadata": {},
   "outputs": [],
   "source": []
  }
 ],
 "metadata": {
  "kernelspec": {
   "display_name": "Python 3 (ipykernel)",
   "language": "python",
   "name": "python3"
  },
  "language_info": {
   "codemirror_mode": {
    "name": "ipython",
    "version": 3
   },
   "file_extension": ".py",
   "mimetype": "text/x-python",
   "name": "python",
   "nbconvert_exporter": "python",
   "pygments_lexer": "ipython3",
   "version": "3.12.4"
  }
 },
 "nbformat": 4,
 "nbformat_minor": 5
}
